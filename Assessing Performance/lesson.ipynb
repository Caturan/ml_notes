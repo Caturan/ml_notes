{
 "cells": [
  {
   "cell_type": "markdown",
   "metadata": {},
   "source": [
    "### 3 source of error "
   ]
  },
  {
   "cell_type": "markdown",
   "metadata": {},
   "source": [
    "- In farming predictions, there are 3 sources of error:\n",
    "1. Noise \n",
    "2. Bias\n",
    "3. Variance\n",
    "- Those 3 shows us total error in data.  "
   ]
  },
  {
   "cell_type": "markdown",
   "metadata": {},
   "source": [
    "### Noise\n",
    "- It is irreducible error or inevitable error. "
   ]
  },
  {
   "cell_type": "markdown",
   "metadata": {},
   "source": [
    "### Bias \n",
    "- Low complexity equations give us high bias."
   ]
  },
  {
   "cell_type": "markdown",
   "metadata": {},
   "source": [
    "## Medium\n",
    "- Consider train error as measure of performance. "
   ]
  },
  {
   "attachments": {
    "image.png": {
     "image/png": "[encoded data removed]"
    }
   },
   "cell_type": "markdown",
   "metadata": {},
   "source": [
    "### Train Error \n",
    "- The training error is defined as the average loss that occured during the training process.\n",
    "- ![image.png](attachment:image.png)\n",
    "- Here, m_t is the size of the training set and loss function is the square of the difference between the acutal output and the predicted output. The above equation can be written as: \n",
    "- ![alt text](image.png)\n",
    "- We can take the root of the above equation to calculate the Root Mean Square Error (RMSE). \n",
    "- It should be notes that the train error will be low as compared to the test error. "
   ]
  },
  {
   "cell_type": "markdown",
   "metadata": {},
   "source": [
    "### Train Error vs Model Complexity \n",
    "- The training error keeps on decreasing as we increase the complexity of the model. \n",
    "- Here complexity can be defined as the number of different or complex (x^power) input features involved in the model. The relationship can be plotted as: \n",
    "- ![alt text](image-1.png)\n",
    "- The simple models are expected to have the high train error and it can be explained with the help of the following example in which one Temperature feature is used to make the predictions. \n",
    "- ![alt text](image-2.png)\n",
    "- (palbable = aşikar, meydanda) It is palbable from the above graph, that constant line is not a good fit at all. \n",
    "- And, as we increase the complexity of the model in the above example the following models are obtained. \n",
    "- ![alt text](image-3.png)\n",
    "- If we keep on increasing the model complexity, eventually, we will get the following model: \n",
    "- ![alt text](image-4.png)\n",
    "- This model may look nice because it is having almost zero training error, however, this model will terribly fail with the test set because it lacks generalization. \n",
    "- ![alt text](image-5.png)\n",
    "- Therefore, the alone training error is an overly optimistic measure of the performance and we need to consider the generalization and test error to asses the model. "
   ]
  },
  {
   "cell_type": "markdown",
   "metadata": {},
   "source": [
    "### Generalization Error \n",
    "- The generalization is measured in an independent test set. \n",
    "- The generalization error vs model complexity can be plotted as follow:\n",
    "- ![alt text](image-6.png)\n",
    "- Generalization model -> When we train a model on a dataset, and the model is provided with new data absent from the trained set, it may perform well. Such model is generalizable."
   ]
  },
  {
   "cell_type": "markdown",
   "metadata": {},
   "source": [
    "### Overfitting\n",
    "- Overfitting refers to a model the training data too well. \n",
    "- This means that even noise or random fluctations in the training data are learned by the model which adversely impacts its performance on new unseen data. \n",
    "- Another important points to be considered is the large coefficient (ϴ) of regression which are often associated with the overfitting. \n",
    "- Therefore, the total cost can be defined as: \n",
    "- ![alt text](image-7.png) \n",
    "- Here, ϴ is the coefficient of regression formula and λ is the regularization coefficient which decides the magnitude or effect of ϴ on the total cost.  "
   ]
  },
  {
   "cell_type": "markdown",
   "metadata": {},
   "source": [
    "### Underfitting \n",
    "- Underfitting refers to a model than can neither model the training data nor generalize to new data. \n",
    "- Underfitting is easy to figure out because it leads to poor train error. "
   ]
  },
  {
   "cell_type": "markdown",
   "metadata": {},
   "source": [
    "### Good Fit/Generalized Model \n",
    "- A good fit model is a sweet spot between underfitting and overfitting. \n",
    "- This model is what we aim to get. "
   ]
  },
  {
   "cell_type": "markdown",
   "metadata": {},
   "source": [
    "### Test Error \n",
    "- The test error is calculated by taking the average of the loss occured in test set and is given by: \n",
    "- ![alt text](image-8.png)\n",
    "- The test error decreases with the increase in the model complexity up to a certain point and then start increasing: \n",
    "- ![alt text](image-9.png)\n",
    "- In the above figure, if we compare the model 1 and model 2 then definitely the model 1 is better because test error in model 2 is very high as compared to model 1. "
   ]
  },
  {
   "cell_type": "markdown",
   "metadata": {},
   "source": [
    "### Sources of Error \n",
    "- There are three sources of error in the model: \n",
    "1. Noise \n",
    "2. Bias \n",
    "3. Variance "
   ]
  },
  {
   "cell_type": "markdown",
   "metadata": {},
   "source": [
    "### Noise \n",
    "- The noise is inherited from the noisy data and this is an irreducible error. \n",
    "- For example, while estimating the power demand, the noise could be generated by a sudden rise in power demand due to personal social event or gathering. "
   ]
  },
  {
   "cell_type": "markdown",
   "metadata": {},
   "source": [
    "### Bias \n",
    "- For a specific model, the bias is defined as the difference between the average fit and true function. \n",
    "- The average fit is obtained by training the model on the different datasets and taking an average of all the fitted lines. \n",
    "- In other words, the bias can be defined as the ABILITY of the model to CAPTURE the DATA.\n",
    "- More is the number of features; better will the model capture the data which will result in a low difference between average fit and true function. \n",
    "- Therefore, the higher the complexity; the lower the bias. So, we can control the bias. \n",
    "- ![alt text](image-10.png)"
   ]
  },
  {
   "cell_type": "markdown",
   "metadata": {},
   "source": [
    "### Variance \n",
    "- It is measure of how much the specific fits vary from the expected fits. \n",
    "- The variance quantifies the spread of data around the mean. A smaller variance indicates that the data point are closely clustered around, while a larger variance suggests a wider spread. \n",
    "- The variance is calculated with respect to different models that are obtained by training on the different datasets. \n",
    "- Hence, the complex models will have higher variance because prediction will be sensitive to the type of dataset as the higher complex model will always try to completely fit to all the data points of a given a dataset. \n"
   ]
  },
  {
   "cell_type": "markdown",
   "metadata": {},
   "source": [
    "### Bias-Variance Tradeoff \n",
    "- It should be noted although we can control the bias or variance, we cannot compute them because they are defined relative to the true function. \n",
    "- ![alt text](image-11.png)\n",
    "- We try to choose the sweet spot between the variance the bias to select the best model. \n",
    "- Therefore, we can summarize by saying that for model selection, we need to chose tuning parameters controlling the model complexity (e.g. degree of polynomial or number of features). \n",
    "- Further, model assesment is done after selecting the model and assessing the test or generalization error. "
   ]
  },
  {
   "cell_type": "markdown",
   "metadata": {},
   "source": [
    "https://medium.com/analytics-vidhya/assessing-the-performance-types-and-sources-of-error-in-machine-learning-e5d28b71da6b"
   ]
  }
 ],
 "metadata": {
  "kernelspec": {
   "display_name": "Python 3",
   "language": "python",
   "name": "python3"
  },
  "language_info": {
   "name": "python",
   "version": "3.12.4"
  }
 },
 "nbformat": 4,
 "nbformat_minor": 2
}
