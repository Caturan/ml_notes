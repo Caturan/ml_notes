{
 "cells": [
  {
   "cell_type": "markdown",
   "metadata": {},
   "source": [
    "# Classification"
   ]
  },
  {
   "cell_type": "markdown",
   "metadata": {},
   "source": [
    "- Classification in machine learning is a predictive modeling process by which machine learning models use classification algorithms to predict the correct label for the input data. "
   ]
  },
  {
   "cell_type": "markdown",
   "metadata": {},
   "source": [
    "## What are classification models? \n",
    "- A classification model is a type of machine learning model that sorts data points into predefined groups called classes. \n",
    "- Classifiers learn class characteristics from input data, then learn to assign possible classes to new unseen data according to those learned characteristics."
   ]
  },
  {
   "cell_type": "markdown",
   "metadata": {},
   "source": [
    "## How do classification models work? \n",
    "- General two-step data classification process:\n",
    "1. Learning \n",
    "2. Classification "
   ]
  },
  {
   "cell_type": "markdown",
   "metadata": {},
   "source": [
    "### Step1: Learning \n",
    "- Classification has traditionally been a type of supervised machine learning, which means it uses labeled data to train models. \n",
    "- In classification training, the model's job is to understand the relationships between features and class label, then apply those criteria to future datasets. \n",
    "- In mathematical terms, the model consider each data point as a tuple. Atuple is an ordered numerical sequence that is represented as x={x1,x2,x3...xn}.\n",
    "-  Each value in the tuple is a feature of the data point. \n",
    "- The purpose of training is to minimize errors during predictive modeling. \n",
    "    - Gradient descent algorithms train models by minimizing the gap between predicted and acutal results. \n",
    "    - Model can later be fine-tuned with more training to perform more specific tasks.\n",
    "\n",
    "- Unsupervised learning methods enable models to discover pattern in unlabeled data by themselves. \n",
    "- Semisupervised learning combines labeled and unlabeled data to train models for classificcation and regression purposes.  \n",
    "    - In situations where obtaining large datasets of labeled data is not feasible, semisupervised learning is a viable alternative."
   ]
  },
  {
   "cell_type": "markdown",
   "metadata": {},
   "source": [
    "## Step 2: Classification \n",
    "- In this phase, users deploy the model on a test set of new data. \n",
    "- Previously unused data is used to evaluate model performance to avoid overfitting: when model leans too heavily on its training data and becomes unable to make accurate predictions in the real world. "
   ]
  },
  {
   "cell_type": "markdown",
   "metadata": {},
   "source": [
    "## What types of classification are there?\n",
    "- Binart Classification: Sorts data into two exclusive categories. \n",
    "- Multiclass classification: Sorts data into more that two exclusive categories. \n",
    "- Multilabel classification: Sorts data into nonexclusive categories. \n",
    "- Imbalanced: Classification has an unequal distribution of data points across categories."
   ]
  },
  {
   "cell_type": "markdown",
   "metadata": {},
   "source": [
    "## Classification versus regression \n",
    "- The difference between classification and regression is that while classification predicts a data point's category, regression predicts an associated real numerical values. \n",
    "- But classification and regression are types o fpredictive modeling but with distinct use cases. \n",
    "- Classification models sort data points into categories. \n",
    "- Regression models consider various data points to predict a continues numerical value fo rantoher variable.\n",
    "- In pracice, the two are often closely related. For example, the logistic regression algorithm uses regression to fulfill classification tasks. "
   ]
  }
 ],
 "metadata": {
  "language_info": {
   "name": "python"
  }
 },
 "nbformat": 4,
 "nbformat_minor": 2
}
