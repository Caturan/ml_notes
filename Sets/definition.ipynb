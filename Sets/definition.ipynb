{
 "cells": [
  {
   "cell_type": "markdown",
   "metadata": {},
   "source": [
    "# Train, Test and Validation Sets"
   ]
  },
  {
   "cell_type": "markdown",
   "metadata": {},
   "source": [
    "- In most supervised machine learning tasks, best practice recommends to split you data into three independent sets: a training set, a testing set, and a validation set. "
   ]
  },
  {
   "cell_type": "markdown",
   "metadata": {},
   "source": [
    "## Cats and Dogs"
   ]
  },
  {
   "cell_type": "markdown",
   "metadata": {},
   "source": [
    "- We have a dataset made of pets: Cats and Dogs. \n",
    "- For each pet in the dataset we know only two features: weight and fluffiness.\n",
    "- Our goal is to make use of the different data splits and identify a best model for classifying, a based on the availabel features.  "
   ]
  },
  {
   "cell_type": "markdown",
   "metadata": {},
   "source": [
    "### Stage 1 \n",
    "- The first step in our classification task is to randomly split our pets into three independent sets:\n",
    "- Training Set: The dataset that we feed our model to learn potential undelying patterns and relationships. \n",
    "- Validation Set: The dataset that we use to understan our model's performance across different model types and hyperparameter choices. \n",
    "- Test Set: The dataset that we use to approximate our model's unbiasd accuracy in the wild. "
   ]
  },
  {
   "cell_type": "markdown",
   "metadata": {},
   "source": [
    "- The training set is to dataset that we employ to train our model. \n",
    "- The training set should be as representative as possible of the population that we are trying to model. \n",
    "- We need to be careful and ensure that it is as unbiased as possible, as any bias at this stage may be propagated downstream during inference. "
   ]
  },
  {
   "cell_type": "markdown",
   "metadata": {},
   "source": [
    "### Stage 2 \n",
    "- Our is a binary classification task, so we will use a simple but effective model apptopriate for this task: logistic regression\n",
    "- Logistic regression will learn a decision boundary to best seperate the cats from dogs in our training data, using the selected feature (None, Weight, Fluffiness, or both Weight and Fluffiness).\n",
    "- Select the feature to visualize the corresponing logistic regression model's decision boundary. "
   ]
  },
  {
   "cell_type": "markdown",
   "metadata": {},
   "source": [
    "#### We can build four different logistic regression model (one for each feature possibility), how do we decide which model to select? \n",
    "- We could compoare the accuracy of each model on the training set, but if we use the same exact dataset for both training and tuning, the model will overfit and won't generalize well. \n",
    "- This is where the validation set comes in -- it acts as an independent, unbiased dataset for comparing the performance of different algorithms trained on our training set. "
   ]
  },
  {
   "cell_type": "markdown",
   "metadata": {},
   "source": [
    "- Once we have used the validation set to determine the algorithm and paramets choices that we would like to use in production, the test set is used to approximate the model's true performance in the wild. \n",
    "- It is the final step in evaluating our model's performance on unseen data. \n",
    "- We should never, under any circumstances, look at the test set's performance before selecting a model. "
   ]
  },
  {
   "cell_type": "markdown",
   "metadata": {},
   "source": [
    "### Final Stage \n",
    "- You may have notices that the test accuracy of the \"just fluffiness\" model was higher than that of the \"both features\" model, despite the validation set selecting the latter model as the best. \n",
    "- This occurance of the validation performance not exactly matching the test performance might happen, yet it is not a bad thing.\n",
    "- Remember that the test performance is not a number top optimize over -- it  is a metric to assses future performance. \n",
    "- It allows us to estimate, with confidence, that our model can distinguish between cats and dogs with %87.5 accuracy. "
   ]
  },
  {
   "cell_type": "markdown",
   "metadata": {},
   "source": [
    "### Key Takeaways\n",
    "- It is best practice in machine learning to split our data into the following three groups: \n",
    "- Training Set: For training of the model.\n",
    "- Validation Set: For unbiased evaluation model. \n",
    "- Test Set: For final evaluation of the model.  "
   ]
  }
 ],
 "metadata": {
  "language_info": {
   "name": "python"
  }
 },
 "nbformat": 4,
 "nbformat_minor": 2
}
