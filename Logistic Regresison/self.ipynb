{
 "cells": [
  {
   "cell_type": "markdown",
   "metadata": {},
   "source": [
    "# Logistic Regression"
   ]
  },
  {
   "cell_type": "markdown",
   "metadata": {},
   "source": [
    "- Machine learning is traditinally divided into three branches:\n",
    "    * Supervised learning\n",
    "    * Unsupervised learning \n",
    "    * Reinforcement learning \n",
    "\n",
    "- ![alt text](image.png)"
   ]
  },
  {
   "cell_type": "markdown",
   "metadata": {},
   "source": [
    "## What is the classification problem? \n",
    "- The main goal of a classification problem is to assign data points to predefined categories or classes. \n",
    "- In our example - diabates in dogs, we are, of course, dealing with binary classification. \n",
    "    - We will attempt to predict whether a given dog has diabates or not, and we will use a very simple logistic regression model for this purpose.  "
   ]
  },
  {
   "cell_type": "markdown",
   "metadata": {},
   "source": [
    "## Logistic regression --introduction \n",
    "- Let's begin by considering a model with only one explanatory variable X. \n",
    "    - The dependent variable, Y, is the answer to the question \"Is a given dog diabetic?\"\n",
    "    - If the answer is YES, the value of Y is 1; otherwise it takes the value 0. \n",
    "- Now, we are faced with the following problem.\n",
    "    - We want to estimate the probality that the dependent variable Y yields a response of 1, given the variable X. \n",
    "    - So we want to estimate: \n",
    "        - ![alt text](image-1.png)\n",
    "    - Okey, a clever beginner might come up with an idea: \"We already have linear regression model -let's try applying it here to solve this problem\".\n",
    "\n",
    "- So, we could use a linear regression model, Y = B0 + B1X, and then assume that if Y > 0.5, then Y = 1 othrewise Y = 0. \n",
    "- However, a significant disadvantages of this method is that for some values of X, we would get results outside the [0, 1] range, making it impossible to interpret the answers as probabilities. \n",
    "- To avoid this problem, we need to model p1(X) using a function that yields values within the [0,1] range. "
   ]
  },
  {
   "cell_type": "markdown",
   "metadata": {},
   "source": [
    "### Sigmoid \n",
    "- In logistic regression, a function called the sigmoid function is used for this purpose: \n",
    "    - ![alt text](image-2.png)\n",
    "- which transformes a real line into the [0,1]. \n",
    "- Naturally, the idea comes to mind to model the probaility p1(X) using the linear regression joined with sigmoid function as follows:\n",
    "- ![alt text](image-3.png)"
   ]
  },
  {
   "cell_type": "markdown",
   "metadata": {},
   "source": [
    "### Not just one dimension\n",
    "- Introducing multidimensionality to a logistic regression model is remarkably simple and works exactly the same way as in linear regression. \n",
    "- All we need to do is add a few more X's and B's. \n",
    "- ![alt text](image-4.png)\n",
    "- Logistic regression models easily generalize to higher dimensions. "
   ]
  },
  {
   "cell_type": "markdown",
   "metadata": {},
   "source": [
    "### Example "
   ]
  },
  {
   "cell_type": "code",
   "execution_count": 2,
   "metadata": {},
   "outputs": [
    {
     "name": "stdout",
     "output_type": "stream",
     "text": [
      "[[ 40.31196484 -22.98670412]]\n",
      "[-31.64933448]\n"
     ]
    }
   ],
   "source": [
    "import numpy as np\n",
    "from sklearn.linear_model import LogisticRegression\n",
    "\n",
    "# Dataset from example\n",
    "X = np.array([[3,5],[4,6],[5,7],[2,4],[6,8],[7,9]])\n",
    "y = np.array([0,0,1,0,1,1])\n",
    "\n",
    "# Logistic Regression model\n",
    "clf = LogisticRegression(penalty=None)\n",
    "clf.fit(X, y)\n",
    "\n",
    "# Coefficients\n",
    "print(clf.coef_)\n",
    "print(clf.intercept_)\n"
   ]
  },
  {
   "attachments": {
    "image.png": {
     "image/png": "[encoded data removed]"
    }
   },
   "cell_type": "markdown",
   "metadata": {},
   "source": [
    "![image.png](attachment:image.png)"
   ]
  },
  {
   "cell_type": "markdown",
   "metadata": {},
   "source": [
    "- So our model takes the following form: \n",
    "- ![alt text](image-5.png)\n",
    "- Now, if we wanted to find the probility of diabetes for a dog, being 3 years old and weighing 4 kg, all we need to do is plug these values into formula:\n",
    "- ![alt text](image-6.png)\n",
    "- We can see that the probability of disease in such a dog is very low, just %6.7%"
   ]
  },
  {
   "cell_type": "markdown",
   "metadata": {},
   "source": [
    "### Binary Cross Entrop (log los)\n",
    "- Binary cross-entropy is a way to measure how well a machine learning model is performing when it's trying to make binary predictions. \n",
    "- In many machine learning models, including logistic regression, binary cross-entropy is used as a loss function. \n",
    "- To goal is to minimize this function during training. It guides the model to make better and more accurate predictions. \n",
    "- If you plan to dive into deep learning, binary cross-entropy is a fundamental concept. "
   ]
  },
  {
   "cell_type": "markdown",
   "metadata": {},
   "source": [
    "### What is the non parametric logistic regression? \n",
    "- Non-parametric logistic regression refers to an extension of logistic regression that does not assume a specific parametric form for the relationship between the predictor variables and the response variable. \n",
    "\n",
    "- Advantages: \n",
    "    1. Flexibility: Can model complex, non-linear relationships. \n",
    "    2. Interpretability(yorumlanabilirkik): Methods like splines or GAMs provide some interpretability by showing how each predictor contributes to the outcome. \n",
    "    3. No Need to Specify a Model Form: This reduces the risk of model misspecification. \n",
    "\n",
    "- Disadvantages: \n",
    "    1. Computationally Intensive: Non-parametric methods are often more computationally demanding than parametric methods.\n",
    "    2. Overfitting: The added flexibility can lead to overfitting, especially with limited data. \n",
    "    3. Less Interpretability in Some Cases: Methods like random forests or kernel regression may provide predictions but lack clear interpetability compared to parametric models. \n",
    "\n",
    "- When to Use Non-Parametric Logistic Regression: \n",
    "    - When we suspect the relationship between predictors and the outcome is complex or non-linear. \n",
    "    - When we want to avoid making strong assumption about the data distibution or model form.\n",
    "    - When we have sufficient data to capture the complexity of the relationships without overfitting.\n",
    "\n",
    "- In summary, non-parametric logistic regression is a flexible alternative to parametric logistic regression, allowing for more complex modeling at the cost of increased computational complexity and potential overfitting."
   ]
  }
 ],
 "metadata": {
  "kernelspec": {
   "display_name": "Python 3",
   "language": "python",
   "name": "python3"
  },
  "language_info": {
   "codemirror_mode": {
    "name": "ipython",
    "version": 3
   },
   "file_extension": ".py",
   "mimetype": "text/x-python",
   "name": "python",
   "nbconvert_exporter": "python",
   "pygments_lexer": "ipython3",
   "version": "3.10.8"
  }
 },
 "nbformat": 4,
 "nbformat_minor": 2
}
