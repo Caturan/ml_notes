{
 "cells": [
  {
   "cell_type": "markdown",
   "metadata": {},
   "source": [
    "# Essential Machine Learning Terms "
   ]
  },
  {
   "cell_type": "markdown",
   "metadata": {},
   "source": [
    "1. Model: \n",
    "- A mathematical function or algorithm that maps input data X to output predictions Y. \n",
    "- Example: A linear regression model predict house prices based on square footage. "
   ]
  },
  {
   "cell_type": "markdown",
   "metadata": {},
   "source": [
    "2. Feature: \n",
    "- A measurable property or characteristics of the data. \n",
    "- Example: For house predictions, features could include:\n",
    "    - Square footage\n",
    "    - Number of rooms \n",
    "    - Location "
   ]
  },
  {
   "cell_type": "markdown",
   "metadata": {},
   "source": [
    "3. Label:\n",
    "- The actual value we are trying to predict. \n",
    "- Example: For house price prediction:\n",
    "    - The label is the actual price of the house. "
   ]
  },
  {
   "cell_type": "markdown",
   "metadata": {},
   "source": [
    "4. Training Data:\n",
    "- The dataset used to train the model. It includes:\n",
    "    - Features (input)\n",
    "    - Labels (output)"
   ]
  },
  {
   "cell_type": "markdown",
   "metadata": {},
   "source": [
    "5. Test Data:\n",
    "- A separate dataset used to evaluate how well the model generalizes to unseen data. "
   ]
  },
  {
   "cell_type": "markdown",
   "metadata": {},
   "source": [
    "6. Overfitting:\n",
    "- When the model learns the training data too well, incuding noise and outliers. \n",
    "- It performs well on training data but poorly on test data. "
   ]
  },
  {
   "cell_type": "markdown",
   "metadata": {},
   "source": [
    "7. Underfitting: \n",
    "- When the model is too simple to capture the underlying pattern in the data. \n",
    "- Both training and test errors are high. "
   ]
  },
  {
   "cell_type": "markdown",
   "metadata": {},
   "source": [
    "8. Supervised Learning:\n",
    "- A type of learning where the model is trained on labeled data (input + output). \n",
    "- Example:\n",
    "    - Regression: Predicting continous values (house prices).\n",
    "    - Classification: Predicting discrete labels (spam vs non-spam)."
   ]
  },
  {
   "cell_type": "markdown",
   "metadata": {},
   "source": [
    "9. Unsupervised Learning: \n",
    "- A type of learning where the model finds patterns in unlabeled data. \n",
    "- Example: \n",
    "    - Clustering: Grouping customers based on purchase behavior. "
   ]
  },
  {
   "cell_type": "markdown",
   "metadata": {},
   "source": [
    "10. Loss Function:\n",
    "- A function that measures the error between the predicted value ^y and the acutal value y. \n",
    "- Example: \n",
    "    - Squared Error: L(y,^y) = (y-^y)2"
   ]
  },
  {
   "cell_type": "markdown",
   "metadata": {},
   "source": [
    "11. Gradient Decent:\n",
    "- An optimization algorithm that minimizes the loss function by updating model parameters in the direction of the steepest descent. "
   ]
  },
  {
   "cell_type": "markdown",
   "metadata": {},
   "source": [
    "12. Bias \n",
    "- Error due to a model's simplistic assumptions. \n",
    "- High bias -> Underfitting"
   ]
  },
  {
   "cell_type": "markdown",
   "metadata": {},
   "source": [
    "13. Variance:\n",
    "- Error due to model's senstivity to the trainig data. \n",
    "- High variance -> Overfitting. "
   ]
  },
  {
   "cell_type": "markdown",
   "metadata": {},
   "source": [
    "14. Epoch:\n",
    "- One full pass through the entire training dataset during training. "
   ]
  },
  {
   "cell_type": "markdown",
   "metadata": {},
   "source": [
    "15. Hyperparameters: \n",
    "- Configuration settings that control the learning process. They are not learned by the model. \n",
    "- Example: \n",
    "    - Learning rate, number of hidden layers in a neural network, regularization strength. \n"
   ]
  },
  {
   "cell_type": "markdown",
   "metadata": {},
   "source": [
    "16. Regularization: \n",
    "- A technique to prevent overfitting ny penalizing large model coefficients. \n",
    "- Example: \n",
    "    - L2 Regularization (Ridge Regression): Adds a penalty on the squared magnitude of model wieghts. "
   ]
  },
  {
   "cell_type": "markdown",
   "metadata": {},
   "source": [
    "17. Cross-Validation:\n",
    "- A technique to split data into multiple subsets for better evaluation of model performance. \n",
    "- Example: K-Fold Cross-Validation"
   ]
  }
 ],
 "metadata": {
  "language_info": {
   "name": "python"
  }
 },
 "nbformat": 4,
 "nbformat_minor": 2
}
